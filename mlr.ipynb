{
 "cells": [
  {
   "cell_type": "code",
   "execution_count": 59,
   "metadata": {},
   "outputs": [],
   "source": [
    "import numpy as np \n",
    "import matplotlib.pyplot as plt \n",
    "import pandas as pd \n",
    "import librosa "
   ]
  },
  {
   "cell_type": "code",
   "execution_count": 60,
   "metadata": {},
   "outputs": [],
   "source": [
    "X_train = np.load('X_train.npy')\n",
    "y_train = np.load('y_train.npy')"
   ]
  },
  {
   "cell_type": "code",
   "execution_count": 61,
   "metadata": {},
   "outputs": [],
   "source": [
    "from sklearn.utils import shuffle\n",
    "X_train, y_train = shuffle(X_train, y_train)\n",
    "\n",
    "X_train_subset = X_train[:10000]\n",
    "y_train_subset = y_train[:10000]"
   ]
  },
  {
   "cell_type": "markdown",
   "metadata": {},
   "source": [
    "#### Converting the y values to Integer values rather than vectors "
   ]
  },
  {
   "cell_type": "code",
   "execution_count": 62,
   "metadata": {},
   "outputs": [],
   "source": [
    "y_train_final = []\n",
    "for i in range(y_train_subset.shape[0]):\n",
    "    if y_train_subset[i][0] == 1 :\n",
    "        y_train_final.append(0)\n",
    "    elif y_train_subset[i][1] == 1 :\n",
    "        y_train_final.append(1)\n",
    "    else:\n",
    "        y_train_final.append(2)\n",
    "\n",
    "y_train_final = np.array(y_train_final)\n",
    "X_train_final = X_train_subset"
   ]
  },
  {
   "cell_type": "code",
   "execution_count": 63,
   "metadata": {},
   "outputs": [
    {
     "name": "stdout",
     "output_type": "stream",
     "text": [
      "(10000, 513) (10000,)\n"
     ]
    }
   ],
   "source": [
    "print(X_train_final.shape, y_train_final.shape)"
   ]
  },
  {
   "cell_type": "markdown",
   "metadata": {},
   "source": [
    "### Creating the Model"
   ]
  },
  {
   "cell_type": "code",
   "execution_count": 64,
   "metadata": {},
   "outputs": [],
   "source": [
    "# y = Wx + b\n",
    "# 3x1 = (3,513) * (513,1) + (3,1)\n",
    "W = np.random.rand(3, 513)\n",
    "b = np.random.rand(3, 1)"
   ]
  },
  {
   "cell_type": "code",
   "execution_count": 65,
   "metadata": {},
   "outputs": [],
   "source": [
    "def forward_pass(x, W, b):\n",
    "    y_pred = np.array([np.zeros([3]) for i in range(x.shape[0])])\n",
    "\n",
    "    for i in range(x.shape[0]): \n",
    "        y_pred[i] = (W.dot(x[i].reshape(-1,1)) + b).reshape(-1)\n",
    "\n",
    "    y_pred_prob = np.array([np.zeros([3]) for i in range(y_pred.shape[0])])\n",
    "\n",
    "    from scipy.special import softmax\n",
    "    \n",
    "    for i in range(y_pred.shape[0]):\n",
    "        y_pred_prob[i] = softmax(y_pred[i])\n",
    "\n",
    "    predictions = np.array([np.argmax(i) for i in y_pred_prob])\n",
    "\n",
    "    return y_pred_prob, predictions"
   ]
  },
  {
   "cell_type": "code",
   "execution_count": 66,
   "metadata": {},
   "outputs": [
    {
     "name": "stdout",
     "output_type": "stream",
     "text": [
      "(10000,)\n"
     ]
    }
   ],
   "source": [
    "y_pred_prob, predictions = forward_pass(X_train_final, W, b)\n",
    "print(predictions.shape)"
   ]
  },
  {
   "cell_type": "code",
   "execution_count": 67,
   "metadata": {},
   "outputs": [],
   "source": [
    "def accuracy(predictions, target):\n",
    "    correct = 0\n",
    "    for i in range(len(predictions)):\n",
    "        if predictions[i] == target[i]:\n",
    "            correct += 1\n",
    "    accuracy = correct/len(predictions)*100\n",
    "    return accuracy"
   ]
  },
  {
   "cell_type": "code",
   "execution_count": 68,
   "metadata": {},
   "outputs": [
    {
     "name": "stdout",
     "output_type": "stream",
     "text": [
      "33.52\n"
     ]
    }
   ],
   "source": [
    "accuracy = accuracy(predictions, y_train_final) #calculating accuracy for our model\n",
    "print(accuracy)"
   ]
  },
  {
   "cell_type": "markdown",
   "metadata": {},
   "source": [
    "### Making the training and test sets "
   ]
  },
  {
   "cell_type": "code",
   "execution_count": 69,
   "metadata": {},
   "outputs": [],
   "source": [
    "# train test split \n",
    "from sklearn.model_selection import train_test_split\n",
    "X_train, X_test, y_train, y_test = train_test_split(X_train_final, y_train_final, test_size=0.2, random_state=42)"
   ]
  },
  {
   "cell_type": "markdown",
   "metadata": {},
   "source": [
    "### Training and Evaluating"
   ]
  },
  {
   "cell_type": "code",
   "execution_count": 70,
   "metadata": {},
   "outputs": [],
   "source": [
    "def train(x,y,W,b,lr,epochs):\n",
    "    for i in range(epochs):\n",
    "        y_pred_prob, _ = forward_pass(x, W, b)\n",
    "        y_pred_prob[np.arange(x.shape[0]),y] -= 1\n",
    "\n",
    "        grad_W = y_pred_prob.T.dot(x) \n",
    "        grad_b = np.sum(y_pred_prob, axis = 0).reshape(-1,1)\n",
    "\n",
    "        W -= (lr * grad_W)\n",
    "        b -= (lr * grad_b)\n",
    "\n",
    "    return W, b\n"
   ]
  },
  {
   "cell_type": "code",
   "execution_count": 71,
   "metadata": {},
   "outputs": [],
   "source": [
    "W, b = train(X_train_final, y_train_final, W, b, 0.01, 300)\n"
   ]
  },
  {
   "cell_type": "code",
   "execution_count": 76,
   "metadata": {},
   "outputs": [
    {
     "name": "stdout",
     "output_type": "stream",
     "text": [
      "Model accuracy on test dataset - 88.35\n"
     ]
    }
   ],
   "source": [
    "testProbabilities, testPredictions = forward_pass(X_test, W, b)\n",
    "\n",
    "correctPreds = 0\n",
    "for i in range(len(testPredictions)):\n",
    "    if testPredictions[i] == y_test[i]:\n",
    "        correctPreds += 1\n",
    "acc = correctPreds / len(testPredictions) * 100\n",
    "print(\"Model accuracy on test dataset - {}\".format(acc))"
   ]
  },
  {
   "cell_type": "markdown",
   "metadata": {},
   "source": [
    "### Saving the Model"
   ]
  },
  {
   "cell_type": "code",
   "execution_count": 53,
   "metadata": {},
   "outputs": [],
   "source": [
    "np.save('saved_model/mlr/W', W)\n",
    "np.save('saved_model/mlr/b',b)"
   ]
  }
 ],
 "metadata": {
  "interpreter": {
   "hash": "5cc71acb9da8a628b75f40db50cc39e280e3dc99ec6abc765b4a72693f1bb475"
  },
  "kernelspec": {
   "display_name": "Python 3.6.13 64-bit ('MLSP': conda)",
   "language": "python",
   "name": "python3"
  },
  "language_info": {
   "codemirror_mode": {
    "name": "ipython",
    "version": 3
   },
   "file_extension": ".py",
   "mimetype": "text/x-python",
   "name": "python",
   "nbconvert_exporter": "python",
   "pygments_lexer": "ipython3",
   "version": "3.6.13"
  },
  "orig_nbformat": 4
 },
 "nbformat": 4,
 "nbformat_minor": 2
}
